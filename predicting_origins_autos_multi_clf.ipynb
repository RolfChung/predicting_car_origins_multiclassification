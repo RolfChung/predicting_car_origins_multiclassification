{
 "cells": [
  {
   "cell_type": "markdown",
   "metadata": {},
   "source": [
    "## Summary\n",
    "\n",
    "\n",
    "This project works with the <a href = \"https://archive.ics.uci.edu/ml/datasets/Car+Evaluation\">Car Evaluation Data Set</a> taken from the UCI Center for Machine Learning and Intelligent Systems. It includes technical information as variables and observations on various car types. The variables are used in this project as features to predict the origin of production of the car. The target variable or label is the origin of manufacturing. Is the origin of the car either North America, Europe, or Asia? \n",
    "\n",
    "<ul>\n",
    "<li>mpg -- Miles per gallon, Continuous.</li>\n",
    "<li>cylinders -- Number of cylinders in the motor, Integer, Ordinal, and Categorical.</li>\n",
    "<li>displacement -- Size of the motor, Continuous.</li>\n",
    "<li>horsepower -- Horsepower produced, Continuous.</li>\n",
    "<li>acceleration -- Acceleration, Continuous.</li>\n",
    "<li>year -- Year the car was built, Integer and Categorical.</li>\n",
    "<li>origin -- Integer and Categorical. 1: North America, 2: Europe, 3: Asia.</li>\n",
    "</ul>\n",
    "\n",
    "As the target variable has got three unique origins to choose from, making predictions creates a multiclass classification. The one-versus-all method of multiclass classification is applied here. The one-versus-all method \n",
    "offers a good access as it transforms multiclass classification into multiple binary classification problems.\n",
    "Three in this case. The data is split into train-test-split of 70 to 30. Two models with different number of\n",
    "features each with 3 binary classification models are created here and evaluated with sklearn metrics functionality.\n",
    "\n"
   ]
  },
  {
   "cell_type": "markdown",
   "metadata": {},
   "source": [
    "## Import packages"
   ]
  },
  {
   "cell_type": "code",
   "execution_count": 402,
   "metadata": {},
   "outputs": [],
   "source": [
    "import pandas as pd\n",
    "import matplotlib.pyplot as plt\n",
    "%matplotlib inline\n",
    "import seaborn as sns\n",
    "import numpy as np\n",
    "from sklearn.linear_model import LogisticRegression\n",
    "from sklearn.model_selection import train_test_split\n",
    "from sklearn.linear_model import LogisticRegression\n",
    "from sklearn.metrics import accuracy_score\n",
    "from sklearn.metrics import confusion_matrix\n",
    "from sklearn.metrics import classification_report\n",
    "# from sklearn.metrics import multilabel_confusion_matrix"
   ]
  },
  {
   "cell_type": "markdown",
   "metadata": {},
   "source": [
    "## Import data"
   ]
  },
  {
   "cell_type": "code",
   "execution_count": 403,
   "metadata": {},
   "outputs": [],
   "source": [
    "cars = pd.read_csv(\"auto.csv\", sep=\",\", header=0)"
   ]
  },
  {
   "cell_type": "markdown",
   "metadata": {},
   "source": [
    "## Explore the data"
   ]
  },
  {
   "cell_type": "code",
   "execution_count": 404,
   "metadata": {},
   "outputs": [
    {
     "data": {
      "text/plain": [
       "(392, 8)"
      ]
     },
     "execution_count": 404,
     "metadata": {},
     "output_type": "execute_result"
    }
   ],
   "source": [
    "cars.shape"
   ]
  },
  {
   "cell_type": "code",
   "execution_count": 405,
   "metadata": {},
   "outputs": [
    {
     "data": {
      "text/plain": [
       "Index(['mpg', 'cylinders', 'displacement', 'horsepower', 'weight',\n",
       "       'acceleration', 'year', 'origin'],\n",
       "      dtype='object')"
      ]
     },
     "execution_count": 405,
     "metadata": {},
     "output_type": "execute_result"
    }
   ],
   "source": [
    "cars.columns"
   ]
  },
  {
   "cell_type": "code",
   "execution_count": 406,
   "metadata": {},
   "outputs": [
    {
     "data": {
      "text/plain": [
       "RangeIndex(start=0, stop=392, step=1)"
      ]
     },
     "execution_count": 406,
     "metadata": {},
     "output_type": "execute_result"
    }
   ],
   "source": [
    "cars.index"
   ]
  },
  {
   "cell_type": "code",
   "execution_count": 407,
   "metadata": {},
   "outputs": [
    {
     "name": "stdout",
     "output_type": "stream",
     "text": [
      "<class 'pandas.core.frame.DataFrame'>\n",
      "RangeIndex: 392 entries, 0 to 391\n",
      "Data columns (total 8 columns):\n",
      "mpg             392 non-null float64\n",
      "cylinders       392 non-null int64\n",
      "displacement    392 non-null float64\n",
      "horsepower      392 non-null float64\n",
      "weight          392 non-null float64\n",
      "acceleration    392 non-null float64\n",
      "year            392 non-null int64\n",
      "origin          392 non-null int64\n",
      "dtypes: float64(5), int64(3)\n",
      "memory usage: 24.6 KB\n"
     ]
    }
   ],
   "source": [
    "cars.info()"
   ]
  },
  {
   "cell_type": "code",
   "execution_count": 408,
   "metadata": {},
   "outputs": [
    {
     "data": {
      "text/plain": [
       "mpg             float64\n",
       "cylinders         int64\n",
       "displacement    float64\n",
       "horsepower      float64\n",
       "weight          float64\n",
       "acceleration    float64\n",
       "year              int64\n",
       "origin            int64\n",
       "dtype: object"
      ]
     },
     "execution_count": 408,
     "metadata": {},
     "output_type": "execute_result"
    }
   ],
   "source": [
    "cars.dtypes"
   ]
  },
  {
   "cell_type": "markdown",
   "metadata": {},
   "source": [
    "Some columns are of float type and can be use immediately as features. Others are date or categorical."
   ]
  },
  {
   "cell_type": "code",
   "execution_count": 409,
   "metadata": {},
   "outputs": [
    {
     "data": {
      "text/html": [
       "<div>\n",
       "<style>\n",
       "    .dataframe thead tr:only-child th {\n",
       "        text-align: right;\n",
       "    }\n",
       "\n",
       "    .dataframe thead th {\n",
       "        text-align: left;\n",
       "    }\n",
       "\n",
       "    .dataframe tbody tr th {\n",
       "        vertical-align: top;\n",
       "    }\n",
       "</style>\n",
       "<table border=\"1\" class=\"dataframe\">\n",
       "  <thead>\n",
       "    <tr style=\"text-align: right;\">\n",
       "      <th></th>\n",
       "      <th>mpg</th>\n",
       "      <th>cylinders</th>\n",
       "      <th>displacement</th>\n",
       "      <th>horsepower</th>\n",
       "      <th>weight</th>\n",
       "      <th>acceleration</th>\n",
       "      <th>year</th>\n",
       "      <th>origin</th>\n",
       "    </tr>\n",
       "  </thead>\n",
       "  <tbody>\n",
       "    <tr>\n",
       "      <th>count</th>\n",
       "      <td>392.000000</td>\n",
       "      <td>392.000000</td>\n",
       "      <td>392.000000</td>\n",
       "      <td>392.000000</td>\n",
       "      <td>392.000000</td>\n",
       "      <td>392.000000</td>\n",
       "      <td>392.000000</td>\n",
       "      <td>392.000000</td>\n",
       "    </tr>\n",
       "    <tr>\n",
       "      <th>mean</th>\n",
       "      <td>23.445918</td>\n",
       "      <td>5.471939</td>\n",
       "      <td>194.411990</td>\n",
       "      <td>104.469388</td>\n",
       "      <td>2977.584184</td>\n",
       "      <td>15.541327</td>\n",
       "      <td>75.979592</td>\n",
       "      <td>1.576531</td>\n",
       "    </tr>\n",
       "    <tr>\n",
       "      <th>std</th>\n",
       "      <td>7.805007</td>\n",
       "      <td>1.705783</td>\n",
       "      <td>104.644004</td>\n",
       "      <td>38.491160</td>\n",
       "      <td>849.402560</td>\n",
       "      <td>2.758864</td>\n",
       "      <td>3.683737</td>\n",
       "      <td>0.805518</td>\n",
       "    </tr>\n",
       "    <tr>\n",
       "      <th>min</th>\n",
       "      <td>9.000000</td>\n",
       "      <td>3.000000</td>\n",
       "      <td>68.000000</td>\n",
       "      <td>46.000000</td>\n",
       "      <td>1613.000000</td>\n",
       "      <td>8.000000</td>\n",
       "      <td>70.000000</td>\n",
       "      <td>1.000000</td>\n",
       "    </tr>\n",
       "    <tr>\n",
       "      <th>25%</th>\n",
       "      <td>17.000000</td>\n",
       "      <td>4.000000</td>\n",
       "      <td>105.000000</td>\n",
       "      <td>75.000000</td>\n",
       "      <td>2225.250000</td>\n",
       "      <td>13.775000</td>\n",
       "      <td>73.000000</td>\n",
       "      <td>1.000000</td>\n",
       "    </tr>\n",
       "    <tr>\n",
       "      <th>50%</th>\n",
       "      <td>22.750000</td>\n",
       "      <td>4.000000</td>\n",
       "      <td>151.000000</td>\n",
       "      <td>93.500000</td>\n",
       "      <td>2803.500000</td>\n",
       "      <td>15.500000</td>\n",
       "      <td>76.000000</td>\n",
       "      <td>1.000000</td>\n",
       "    </tr>\n",
       "    <tr>\n",
       "      <th>75%</th>\n",
       "      <td>29.000000</td>\n",
       "      <td>8.000000</td>\n",
       "      <td>275.750000</td>\n",
       "      <td>126.000000</td>\n",
       "      <td>3614.750000</td>\n",
       "      <td>17.025000</td>\n",
       "      <td>79.000000</td>\n",
       "      <td>2.000000</td>\n",
       "    </tr>\n",
       "    <tr>\n",
       "      <th>max</th>\n",
       "      <td>46.600000</td>\n",
       "      <td>8.000000</td>\n",
       "      <td>455.000000</td>\n",
       "      <td>230.000000</td>\n",
       "      <td>5140.000000</td>\n",
       "      <td>24.800000</td>\n",
       "      <td>82.000000</td>\n",
       "      <td>3.000000</td>\n",
       "    </tr>\n",
       "  </tbody>\n",
       "</table>\n",
       "</div>"
      ],
      "text/plain": [
       "              mpg   cylinders  displacement  horsepower       weight  \\\n",
       "count  392.000000  392.000000    392.000000  392.000000   392.000000   \n",
       "mean    23.445918    5.471939    194.411990  104.469388  2977.584184   \n",
       "std      7.805007    1.705783    104.644004   38.491160   849.402560   \n",
       "min      9.000000    3.000000     68.000000   46.000000  1613.000000   \n",
       "25%     17.000000    4.000000    105.000000   75.000000  2225.250000   \n",
       "50%     22.750000    4.000000    151.000000   93.500000  2803.500000   \n",
       "75%     29.000000    8.000000    275.750000  126.000000  3614.750000   \n",
       "max     46.600000    8.000000    455.000000  230.000000  5140.000000   \n",
       "\n",
       "       acceleration        year      origin  \n",
       "count    392.000000  392.000000  392.000000  \n",
       "mean      15.541327   75.979592    1.576531  \n",
       "std        2.758864    3.683737    0.805518  \n",
       "min        8.000000   70.000000    1.000000  \n",
       "25%       13.775000   73.000000    1.000000  \n",
       "50%       15.500000   76.000000    1.000000  \n",
       "75%       17.025000   79.000000    2.000000  \n",
       "max       24.800000   82.000000    3.000000  "
      ]
     },
     "execution_count": 409,
     "metadata": {},
     "output_type": "execute_result"
    }
   ],
   "source": [
    "cars.describe()"
   ]
  },
  {
   "cell_type": "code",
   "execution_count": 410,
   "metadata": {},
   "outputs": [
    {
     "data": {
      "text/html": [
       "<div>\n",
       "<style>\n",
       "    .dataframe thead tr:only-child th {\n",
       "        text-align: right;\n",
       "    }\n",
       "\n",
       "    .dataframe thead th {\n",
       "        text-align: left;\n",
       "    }\n",
       "\n",
       "    .dataframe tbody tr th {\n",
       "        vertical-align: top;\n",
       "    }\n",
       "</style>\n",
       "<table border=\"1\" class=\"dataframe\">\n",
       "  <thead>\n",
       "    <tr style=\"text-align: right;\">\n",
       "      <th></th>\n",
       "      <th>mpg</th>\n",
       "      <th>cylinders</th>\n",
       "      <th>displacement</th>\n",
       "      <th>horsepower</th>\n",
       "      <th>weight</th>\n",
       "      <th>acceleration</th>\n",
       "      <th>year</th>\n",
       "      <th>origin</th>\n",
       "    </tr>\n",
       "  </thead>\n",
       "  <tbody>\n",
       "    <tr>\n",
       "      <th>0</th>\n",
       "      <td>18.0</td>\n",
       "      <td>8</td>\n",
       "      <td>307.0</td>\n",
       "      <td>130.0</td>\n",
       "      <td>3504.0</td>\n",
       "      <td>12.0</td>\n",
       "      <td>70</td>\n",
       "      <td>1</td>\n",
       "    </tr>\n",
       "    <tr>\n",
       "      <th>1</th>\n",
       "      <td>15.0</td>\n",
       "      <td>8</td>\n",
       "      <td>350.0</td>\n",
       "      <td>165.0</td>\n",
       "      <td>3693.0</td>\n",
       "      <td>11.5</td>\n",
       "      <td>70</td>\n",
       "      <td>1</td>\n",
       "    </tr>\n",
       "    <tr>\n",
       "      <th>2</th>\n",
       "      <td>18.0</td>\n",
       "      <td>8</td>\n",
       "      <td>318.0</td>\n",
       "      <td>150.0</td>\n",
       "      <td>3436.0</td>\n",
       "      <td>11.0</td>\n",
       "      <td>70</td>\n",
       "      <td>1</td>\n",
       "    </tr>\n",
       "    <tr>\n",
       "      <th>3</th>\n",
       "      <td>16.0</td>\n",
       "      <td>8</td>\n",
       "      <td>304.0</td>\n",
       "      <td>150.0</td>\n",
       "      <td>3433.0</td>\n",
       "      <td>12.0</td>\n",
       "      <td>70</td>\n",
       "      <td>1</td>\n",
       "    </tr>\n",
       "    <tr>\n",
       "      <th>4</th>\n",
       "      <td>17.0</td>\n",
       "      <td>8</td>\n",
       "      <td>302.0</td>\n",
       "      <td>140.0</td>\n",
       "      <td>3449.0</td>\n",
       "      <td>10.5</td>\n",
       "      <td>70</td>\n",
       "      <td>1</td>\n",
       "    </tr>\n",
       "  </tbody>\n",
       "</table>\n",
       "</div>"
      ],
      "text/plain": [
       "    mpg  cylinders  displacement  horsepower  weight  acceleration  year  \\\n",
       "0  18.0          8         307.0       130.0  3504.0          12.0    70   \n",
       "1  15.0          8         350.0       165.0  3693.0          11.5    70   \n",
       "2  18.0          8         318.0       150.0  3436.0          11.0    70   \n",
       "3  16.0          8         304.0       150.0  3433.0          12.0    70   \n",
       "4  17.0          8         302.0       140.0  3449.0          10.5    70   \n",
       "\n",
       "   origin  \n",
       "0       1  \n",
       "1       1  \n",
       "2       1  \n",
       "3       1  \n",
       "4       1  "
      ]
     },
     "execution_count": 410,
     "metadata": {},
     "output_type": "execute_result"
    }
   ],
   "source": [
    "cars.head()"
   ]
  },
  {
   "cell_type": "code",
   "execution_count": 411,
   "metadata": {},
   "outputs": [
    {
     "data": {
      "text/html": [
       "<div>\n",
       "<style>\n",
       "    .dataframe thead tr:only-child th {\n",
       "        text-align: right;\n",
       "    }\n",
       "\n",
       "    .dataframe thead th {\n",
       "        text-align: left;\n",
       "    }\n",
       "\n",
       "    .dataframe tbody tr th {\n",
       "        vertical-align: top;\n",
       "    }\n",
       "</style>\n",
       "<table border=\"1\" class=\"dataframe\">\n",
       "  <thead>\n",
       "    <tr style=\"text-align: right;\">\n",
       "      <th></th>\n",
       "      <th>mpg</th>\n",
       "      <th>cylinders</th>\n",
       "      <th>displacement</th>\n",
       "      <th>horsepower</th>\n",
       "      <th>weight</th>\n",
       "      <th>acceleration</th>\n",
       "      <th>year</th>\n",
       "      <th>origin</th>\n",
       "    </tr>\n",
       "  </thead>\n",
       "  <tbody>\n",
       "    <tr>\n",
       "      <th>387</th>\n",
       "      <td>27.0</td>\n",
       "      <td>4</td>\n",
       "      <td>140.0</td>\n",
       "      <td>86.0</td>\n",
       "      <td>2790.0</td>\n",
       "      <td>15.6</td>\n",
       "      <td>82</td>\n",
       "      <td>1</td>\n",
       "    </tr>\n",
       "    <tr>\n",
       "      <th>388</th>\n",
       "      <td>44.0</td>\n",
       "      <td>4</td>\n",
       "      <td>97.0</td>\n",
       "      <td>52.0</td>\n",
       "      <td>2130.0</td>\n",
       "      <td>24.6</td>\n",
       "      <td>82</td>\n",
       "      <td>2</td>\n",
       "    </tr>\n",
       "    <tr>\n",
       "      <th>389</th>\n",
       "      <td>32.0</td>\n",
       "      <td>4</td>\n",
       "      <td>135.0</td>\n",
       "      <td>84.0</td>\n",
       "      <td>2295.0</td>\n",
       "      <td>11.6</td>\n",
       "      <td>82</td>\n",
       "      <td>1</td>\n",
       "    </tr>\n",
       "    <tr>\n",
       "      <th>390</th>\n",
       "      <td>28.0</td>\n",
       "      <td>4</td>\n",
       "      <td>120.0</td>\n",
       "      <td>79.0</td>\n",
       "      <td>2625.0</td>\n",
       "      <td>18.6</td>\n",
       "      <td>82</td>\n",
       "      <td>1</td>\n",
       "    </tr>\n",
       "    <tr>\n",
       "      <th>391</th>\n",
       "      <td>31.0</td>\n",
       "      <td>4</td>\n",
       "      <td>119.0</td>\n",
       "      <td>82.0</td>\n",
       "      <td>2720.0</td>\n",
       "      <td>19.4</td>\n",
       "      <td>82</td>\n",
       "      <td>1</td>\n",
       "    </tr>\n",
       "  </tbody>\n",
       "</table>\n",
       "</div>"
      ],
      "text/plain": [
       "      mpg  cylinders  displacement  horsepower  weight  acceleration  year  \\\n",
       "387  27.0          4         140.0        86.0  2790.0          15.6    82   \n",
       "388  44.0          4          97.0        52.0  2130.0          24.6    82   \n",
       "389  32.0          4         135.0        84.0  2295.0          11.6    82   \n",
       "390  28.0          4         120.0        79.0  2625.0          18.6    82   \n",
       "391  31.0          4         119.0        82.0  2720.0          19.4    82   \n",
       "\n",
       "     origin  \n",
       "387       1  \n",
       "388       2  \n",
       "389       1  \n",
       "390       1  \n",
       "391       1  "
      ]
     },
     "execution_count": 411,
     "metadata": {},
     "output_type": "execute_result"
    }
   ],
   "source": [
    "cars.tail()"
   ]
  },
  {
   "cell_type": "code",
   "execution_count": 412,
   "metadata": {},
   "outputs": [
    {
     "data": {
      "text/plain": [
       "['mpg',\n",
       " 'cylinders',\n",
       " 'displacement',\n",
       " 'horsepower',\n",
       " 'weight',\n",
       " 'acceleration',\n",
       " 'year',\n",
       " 'origin']"
      ]
     },
     "execution_count": 412,
     "metadata": {},
     "output_type": "execute_result"
    }
   ],
   "source": [
    "cars_names = list(cars.columns)\n",
    "cars_names\n",
    "# cars_names[2]\n",
    "# cars[cars_names[2]]"
   ]
  },
  {
   "cell_type": "code",
   "execution_count": 413,
   "metadata": {},
   "outputs": [
    {
     "data": {
      "text/plain": [
       "['mpg',\n",
       " 'cylinders',\n",
       " 'displacement',\n",
       " 'horsepower',\n",
       " 'weight',\n",
       " 'acceleration',\n",
       " 'year',\n",
       " 'origin']"
      ]
     },
     "execution_count": 413,
     "metadata": {},
     "output_type": "execute_result"
    }
   ],
   "source": [
    "names_33 = [i for i in cars_names]\n",
    "names_33"
   ]
  },
  {
   "cell_type": "code",
   "execution_count": 414,
   "metadata": {},
   "outputs": [
    {
     "data": {
      "image/png": "[encoded data removed]",
      "text/plain": [
       "<Figure size 720x504 with 8 Axes>"
      ]
     },
     "metadata": {
      "needs_background": "light"
     },
     "output_type": "display_data"
    }
   ],
   "source": [
    "fig, axs = plt.subplots(2,4, figsize=(10,7))\n",
    "axs = axs.ravel()\n",
    "fig.suptitle('Distributions of variables with histogram')\n",
    "for i in range(8):\n",
    "    axs[i].hist(cars[cars_names[i]], color=\"gold\")\n",
    "    axs[i].set_title(cars_names[i])\n",
    "plt.show()"
   ]
  },
  {
   "cell_type": "markdown",
   "metadata": {},
   "source": [
    "The scales differ and data transformation is a consideration \n",
    "avoiding distortions by weight of scales.\n"
   ]
  },
  {
   "cell_type": "code",
   "execution_count": 415,
   "metadata": {},
   "outputs": [
    {
     "data": {
      "image/png": "[encoded data removed]",
      "text/plain": [
       "<Figure size 720x504 with 8 Axes>"
      ]
     },
     "metadata": {},
     "output_type": "display_data"
    }
   ],
   "source": [
    "\n",
    "fig, axs = plt.subplots(2,4, figsize=(10,7), facecolor=\"lightblue\")\n",
    "axs = axs.ravel()\n",
    "fig.suptitle('Distributions of variables with histogram')\n",
    "for i in range(8):\n",
    "    axs[i].boxplot(cars[cars_names[i]], showbox = True, patch_artist=True)\n",
    "    axs[i].set_facecolor(\"lightgreen\")\n",
    "    axs[i].set_title(cars_names[i])\n",
    "    \n",
    "    \n",
    "plt.show()"
   ]
  },
  {
   "cell_type": "markdown",
   "metadata": {},
   "source": [
    "Target label variable: origin<br>\n",
    "Integer and Categorical.<br> \n",
    "Factor levels: 1: North America, 2: Europe, 3: Asia."
   ]
  },
  {
   "cell_type": "code",
   "execution_count": 416,
   "metadata": {},
   "outputs": [
    {
     "name": "stdout",
     "output_type": "stream",
     "text": [
      "[1 3 2]\n",
      "1    245\n",
      "3     79\n",
      "2     68\n",
      "Name: origin, dtype: int64\n"
     ]
    }
   ],
   "source": [
    "print(cars['origin'].unique())\n",
    "print(cars['origin'].value_counts())"
   ]
  },
  {
   "cell_type": "markdown",
   "metadata": {},
   "source": [
    "Aggregate by origin."
   ]
  },
  {
   "cell_type": "code",
   "execution_count": 417,
   "metadata": {},
   "outputs": [
    {
     "data": {
      "text/html": [
       "<div>\n",
       "<style>\n",
       "    .dataframe thead tr:only-child th {\n",
       "        text-align: right;\n",
       "    }\n",
       "\n",
       "    .dataframe thead th {\n",
       "        text-align: left;\n",
       "    }\n",
       "\n",
       "    .dataframe tbody tr th {\n",
       "        vertical-align: top;\n",
       "    }\n",
       "</style>\n",
       "<table border=\"1\" class=\"dataframe\">\n",
       "  <thead>\n",
       "    <tr style=\"text-align: right;\">\n",
       "      <th></th>\n",
       "      <th>origin</th>\n",
       "      <th>1</th>\n",
       "      <th>2</th>\n",
       "      <th>3</th>\n",
       "    </tr>\n",
       "  </thead>\n",
       "  <tbody>\n",
       "    <tr>\n",
       "      <th rowspan=\"5\" valign=\"top\">mpg</th>\n",
       "      <th>mean</th>\n",
       "      <td>20.033469</td>\n",
       "      <td>27.602941</td>\n",
       "      <td>30.450633</td>\n",
       "    </tr>\n",
       "    <tr>\n",
       "      <th>std</th>\n",
       "      <td>6.440384</td>\n",
       "      <td>6.580182</td>\n",
       "      <td>6.090048</td>\n",
       "    </tr>\n",
       "    <tr>\n",
       "      <th>max</th>\n",
       "      <td>39.000000</td>\n",
       "      <td>44.300000</td>\n",
       "      <td>46.600000</td>\n",
       "    </tr>\n",
       "    <tr>\n",
       "      <th>min</th>\n",
       "      <td>9.000000</td>\n",
       "      <td>16.200000</td>\n",
       "      <td>18.000000</td>\n",
       "    </tr>\n",
       "    <tr>\n",
       "      <th>median</th>\n",
       "      <td>18.500000</td>\n",
       "      <td>26.000000</td>\n",
       "      <td>31.600000</td>\n",
       "    </tr>\n",
       "    <tr>\n",
       "      <th rowspan=\"5\" valign=\"top\">cylinders</th>\n",
       "      <th>mean</th>\n",
       "      <td>6.277551</td>\n",
       "      <td>4.161765</td>\n",
       "      <td>4.101266</td>\n",
       "    </tr>\n",
       "    <tr>\n",
       "      <th>std</th>\n",
       "      <td>1.655996</td>\n",
       "      <td>0.506975</td>\n",
       "      <td>0.590414</td>\n",
       "    </tr>\n",
       "    <tr>\n",
       "      <th>max</th>\n",
       "      <td>8.000000</td>\n",
       "      <td>6.000000</td>\n",
       "      <td>6.000000</td>\n",
       "    </tr>\n",
       "    <tr>\n",
       "      <th>min</th>\n",
       "      <td>4.000000</td>\n",
       "      <td>4.000000</td>\n",
       "      <td>3.000000</td>\n",
       "    </tr>\n",
       "    <tr>\n",
       "      <th>median</th>\n",
       "      <td>6.000000</td>\n",
       "      <td>4.000000</td>\n",
       "      <td>4.000000</td>\n",
       "    </tr>\n",
       "    <tr>\n",
       "      <th rowspan=\"5\" valign=\"top\">weight</th>\n",
       "      <th>mean</th>\n",
       "      <td>3372.489796</td>\n",
       "      <td>2433.470588</td>\n",
       "      <td>2221.227848</td>\n",
       "    </tr>\n",
       "    <tr>\n",
       "      <th>std</th>\n",
       "      <td>795.346690</td>\n",
       "      <td>491.813867</td>\n",
       "      <td>320.497248</td>\n",
       "    </tr>\n",
       "    <tr>\n",
       "      <th>max</th>\n",
       "      <td>5140.000000</td>\n",
       "      <td>3820.000000</td>\n",
       "      <td>2930.000000</td>\n",
       "    </tr>\n",
       "    <tr>\n",
       "      <th>min</th>\n",
       "      <td>1800.000000</td>\n",
       "      <td>1825.000000</td>\n",
       "      <td>1613.000000</td>\n",
       "    </tr>\n",
       "    <tr>\n",
       "      <th>median</th>\n",
       "      <td>3381.000000</td>\n",
       "      <td>2240.000000</td>\n",
       "      <td>2155.000000</td>\n",
       "    </tr>\n",
       "  </tbody>\n",
       "</table>\n",
       "</div>"
      ],
      "text/plain": [
       "origin                      1            2            3\n",
       "mpg       mean      20.033469    27.602941    30.450633\n",
       "          std        6.440384     6.580182     6.090048\n",
       "          max       39.000000    44.300000    46.600000\n",
       "          min        9.000000    16.200000    18.000000\n",
       "          median    18.500000    26.000000    31.600000\n",
       "cylinders mean       6.277551     4.161765     4.101266\n",
       "          std        1.655996     0.506975     0.590414\n",
       "          max        8.000000     6.000000     6.000000\n",
       "          min        4.000000     4.000000     3.000000\n",
       "          median     6.000000     4.000000     4.000000\n",
       "weight    mean    3372.489796  2433.470588  2221.227848\n",
       "          std      795.346690   491.813867   320.497248\n",
       "          max     5140.000000  3820.000000  2930.000000\n",
       "          min     1800.000000  1825.000000  1613.000000\n",
       "          median  3381.000000  2240.000000  2155.000000"
      ]
     },
     "execution_count": 417,
     "metadata": {},
     "output_type": "execute_result"
    }
   ],
   "source": [
    "cars.groupby('origin')[['mpg', 'cylinders', 'weight']].\\\n",
    "aggregate([\"mean\", \"std\", \"max\", \"min\", \"median\"]).transpose()"
   ]
  },
  {
   "cell_type": "markdown",
   "metadata": {},
   "source": [
    "Correlation between origin and other variables."
   ]
  },
  {
   "cell_type": "code",
   "execution_count": 418,
   "metadata": {},
   "outputs": [
    {
     "data": {
      "text/plain": [
       "mpg             0.565209\n",
       "cylinders      -0.568932\n",
       "displacement   -0.614535\n",
       "horsepower     -0.455171\n",
       "weight         -0.585005\n",
       "acceleration    0.212746\n",
       "year            0.181528\n",
       "origin          1.000000\n",
       "Name: origin, dtype: float64"
      ]
     },
     "execution_count": 418,
     "metadata": {},
     "output_type": "execute_result"
    }
   ],
   "source": [
    "cars_corr_matrix=cars.corr()\n",
    "correlation_origin_other = cars_corr_matrix.loc[:,'origin']\n",
    "correlation_origin_other "
   ]
  },
  {
   "cell_type": "markdown",
   "metadata": {},
   "source": [
    "The strongest positive correlation is between origin and mpg, and the \n",
    "strongest negative correlation is between origin and displacement."
   ]
  },
  {
   "cell_type": "code",
   "execution_count": 419,
   "metadata": {},
   "outputs": [
    {
     "data": {
      "image/png": "[encoded data removed]",
      "text/plain": [
       "<Figure size 432x288 with 2 Axes>"
      ]
     },
     "metadata": {
      "needs_background": "light"
     },
     "output_type": "display_data"
    }
   ],
   "source": [
    "ax = sns.heatmap(\n",
    "    cars_corr_matrix, \n",
    "    vmin=-1, vmax=1, center=0,\n",
    "    # cmap=sns.diverging_palette(20, 220, n=200),\n",
    "    square=True\n",
    ")\n",
    "ax.set_xticklabels(\n",
    "    ax.get_xticklabels(),\n",
    "    rotation=45,\n",
    "    horizontalalignment='right'\n",
    ");"
   ]
  },
  {
   "cell_type": "markdown",
   "metadata": {},
   "source": [
    "There is a strong correlation between cylinders \n",
    "and weight, horsepower, displacement."
   ]
  },
  {
   "cell_type": "markdown",
   "metadata": {},
   "source": [
    "## Cleaning data"
   ]
  },
  {
   "cell_type": "code",
   "execution_count": 420,
   "metadata": {},
   "outputs": [
    {
     "data": {
      "text/plain": [
       "mpg             0\n",
       "cylinders       0\n",
       "displacement    0\n",
       "horsepower      0\n",
       "weight          0\n",
       "acceleration    0\n",
       "year            0\n",
       "origin          0\n",
       "dtype: int64"
      ]
     },
     "execution_count": 420,
     "metadata": {},
     "output_type": "execute_result"
    }
   ],
   "source": [
    "cars.isnull().sum()"
   ]
  },
  {
   "cell_type": "markdown",
   "metadata": {},
   "source": [
    "There are no null values."
   ]
  },
  {
   "cell_type": "code",
   "execution_count": 421,
   "metadata": {},
   "outputs": [],
   "source": [
    "# for i in cars:\n",
    "#    print(cars[i].unique())\n",
    "# There are none odd values, which could be input errors."
   ]
  },
  {
   "cell_type": "markdown",
   "metadata": {},
   "source": [
    "### Is the data tidy?"
   ]
  },
  {
   "cell_type": "code",
   "execution_count": 422,
   "metadata": {},
   "outputs": [
    {
     "name": "stdout",
     "output_type": "stream",
     "text": [
      "Index(['mpg', 'cylinders', 'displacement', 'horsepower', 'weight',\n",
      "       'acceleration', 'year', 'origin'],\n",
      "      dtype='object')\n",
      "RangeIndex(start=0, stop=392, step=1)\n"
     ]
    }
   ],
   "source": [
    "print(cars.columns)\n",
    "print(cars.index)\n",
    "# Column headers are values, not variable names.\n",
    "# This not the case - tidy!\n",
    "# Multiple variables are stored in one column\n",
    "# This not the case - tidy!\n",
    "# Variables are stored in both rows and columns\n",
    "# This not the case - tidy!"
   ]
  },
  {
   "cell_type": "markdown",
   "metadata": {},
   "source": [
    "The data is clean and tidy."
   ]
  },
  {
   "cell_type": "markdown",
   "metadata": {},
   "source": [
    "### Categorical data?\n",
    "\n",
    "<p>\n",
    "\"Categorical variables take on values that are names or labels. The color of a ball (e.g., red, green, blue) or the breed of a dog (e.g., collie, shepherd, terrier) would be examples of categorical variables.\"\n",
    "(Categorical variables are not measurable.)<br>\n",
    "<a href=\"https://stattrek.com/statistics/dictionary.aspx?definition=categorical%20variable\">Stat Trek</a><br>\n",
    "\n",
    "</p>"
   ]
  },
  {
   "cell_type": "code",
   "execution_count": 423,
   "metadata": {},
   "outputs": [
    {
     "data": {
      "text/plain": [
       "mpg             float64\n",
       "cylinders         int64\n",
       "displacement    float64\n",
       "horsepower      float64\n",
       "weight          float64\n",
       "acceleration    float64\n",
       "year              int64\n",
       "origin            int64\n",
       "dtype: object"
      ]
     },
     "execution_count": 423,
     "metadata": {},
     "output_type": "execute_result"
    }
   ],
   "source": [
    "cars.dtypes\n",
    "# print(cars.columns[1])\n",
    "# print(cars[cars.columns[1]].dtype)\n",
    "# print(cars[cars.columns[1]].unique())"
   ]
  },
  {
   "cell_type": "code",
   "execution_count": 424,
   "metadata": {},
   "outputs": [
    {
     "name": "stdout",
     "output_type": "stream",
     "text": [
      "cylinders : [3 4 5 6 8]\n",
      "year : [70 71 72 73 74 75 76 77 78 79 80 81 82]\n",
      "origin : [1 2 3]\n"
     ]
    }
   ],
   "source": [
    "for i in range(0, cars.shape[1]):\n",
    "    if cars[cars.columns[i]].dtype == \"int64\":\n",
    "        print(cars.columns[i], \":\", np.sort(cars[cars.columns[i]].unique()))"
   ]
  },
  {
   "cell_type": "markdown",
   "metadata": {},
   "source": [
    "Origin is the label variable. Cylinders and year while a date are candidates for categorical variables. <br>\n",
    "Values of categorical variables are coded as dummy variables with binary states of 0 and 1.\n",
    "Essentially changing a long data frame to wide data frame. "
   ]
  },
  {
   "cell_type": "code",
   "execution_count": 425,
   "metadata": {},
   "outputs": [
    {
     "name": "stdout",
     "output_type": "stream",
     "text": [
      "<class 'pandas.core.frame.DataFrame'>\n",
      "RangeIndex: 392 entries, 0 to 391\n",
      "Data columns (total 5 columns):\n",
      "cyl_3    392 non-null uint8\n",
      "cyl_4    392 non-null uint8\n",
      "cyl_5    392 non-null uint8\n",
      "cyl_6    392 non-null uint8\n",
      "cyl_8    392 non-null uint8\n",
      "dtypes: uint8(5)\n",
      "memory usage: 2.0 KB\n",
      "None\n",
      "   cyl_3  cyl_4  cyl_5  cyl_6  cyl_8\n",
      "0      0      0      0      0      1\n",
      "1      0      0      0      0      1\n",
      "2      0      0      0      0      1\n",
      "3      0      0      0      0      1\n",
      "4      0      0      0      0      1\n",
      "     cyl_3  cyl_4  cyl_5  cyl_6  cyl_8\n",
      "387      0      1      0      0      0\n",
      "388      0      1      0      0      0\n",
      "389      0      1      0      0      0\n",
      "390      0      1      0      0      0\n",
      "391      0      1      0      0      0\n"
     ]
    }
   ],
   "source": [
    "cars_2 = cars.copy()\n",
    "cylinders_dummies = pd.get_dummies(cars_2['cylinders'], prefix=\"cyl\")\n",
    "print(cylinders_dummies.info())\n",
    "print(cylinders_dummies.head())\n",
    "print(cylinders_dummies.tail())"
   ]
  },
  {
   "cell_type": "markdown",
   "metadata": {},
   "source": [
    "If observations has 8 cylinders then all other cylinder values are 0 of course."
   ]
  },
  {
   "cell_type": "code",
   "execution_count": 426,
   "metadata": {},
   "outputs": [
    {
     "data": {
      "text/plain": [
       "Index(['mpg', 'cylinders', 'displacement', 'horsepower', 'weight',\n",
       "       'acceleration', 'year', 'origin', 'cyl_3', 'cyl_4', 'cyl_5', 'cyl_6',\n",
       "       'cyl_8'],\n",
       "      dtype='object')"
      ]
     },
     "execution_count": 426,
     "metadata": {},
     "output_type": "execute_result"
    }
   ],
   "source": [
    "cars_2 = pd.concat([cars_2, cylinders_dummies], axis=1)\n",
    "cars_2.columns"
   ]
  },
  {
   "cell_type": "markdown",
   "metadata": {},
   "source": [
    "Years is treated here as a categorical variable as construction year is rather a label than a ratio relationship.\n",
    "It is therefore encoded with dummies too."
   ]
  },
  {
   "cell_type": "code",
   "execution_count": 427,
   "metadata": {},
   "outputs": [
    {
     "name": "stdout",
     "output_type": "stream",
     "text": [
      "Index(['year_70', 'year_71', 'year_72', 'year_73', 'year_74', 'year_75',\n",
      "       'year_76', 'year_77', 'year_78', 'year_79', 'year_80', 'year_81',\n",
      "       'year_82'],\n",
      "      dtype='object')\n"
     ]
    }
   ],
   "source": [
    "years_dummies = pd.get_dummies(cars_2['year'], prefix=\"year\")\n",
    "print(years_dummies.columns)"
   ]
  },
  {
   "cell_type": "code",
   "execution_count": 428,
   "metadata": {},
   "outputs": [
    {
     "data": {
      "text/plain": [
       "Index(['mpg', 'cylinders', 'displacement', 'horsepower', 'weight',\n",
       "       'acceleration', 'year', 'origin', 'cyl_3', 'cyl_4', 'cyl_5', 'cyl_6',\n",
       "       'cyl_8', 'year_70', 'year_71', 'year_72', 'year_73', 'year_74',\n",
       "       'year_75', 'year_76', 'year_77', 'year_78', 'year_79', 'year_80',\n",
       "       'year_81', 'year_82'],\n",
       "      dtype='object')"
      ]
     },
     "execution_count": 428,
     "metadata": {},
     "output_type": "execute_result"
    }
   ],
   "source": [
    "cars_2 = pd.concat([cars_2, years_dummies], axis=1)\n",
    "cars_2.columns"
   ]
  },
  {
   "cell_type": "code",
   "execution_count": 429,
   "metadata": {},
   "outputs": [
    {
     "name": "stdout",
     "output_type": "stream",
     "text": [
      "26\n",
      "24\n"
     ]
    }
   ],
   "source": [
    "# dropping original colums from the header\n",
    "cars_3 = cars_2.copy()\n",
    "cars_566 = cars_2.copy()\n",
    "cars_3=cars_3.drop(['year', 'cylinders'], axis=1)\n",
    "print(len(cars_2.columns))\n",
    "print(len(cars_3.columns))"
   ]
  },
  {
   "cell_type": "markdown",
   "metadata": {},
   "source": [
    "## Multiclass classification: one-versus-all method."
   ]
  },
  {
   "cell_type": "markdown",
   "metadata": {},
   "source": [
    "### Train-test-split\n",
    "Doing a simple train-test-split by shuffling the index."
   ]
  },
  {
   "cell_type": "code",
   "execution_count": 430,
   "metadata": {},
   "outputs": [
    {
     "name": "stdout",
     "output_type": "stream",
     "text": [
      "[0, 1, 2, 3, 4]\n",
      "[ 78 274 246  55 387]\n",
      "Int64Index([78, 274, 246, 55, 387], dtype='int64')\n",
      "(392, 24)\n"
     ]
    },
    {
     "data": {
      "text/plain": [
       "Index(['mpg', 'displacement', 'horsepower', 'weight', 'acceleration', 'origin',\n",
       "       'cyl_3', 'cyl_4', 'cyl_5', 'cyl_6', 'cyl_8', 'year_70', 'year_71',\n",
       "       'year_72', 'year_73', 'year_74', 'year_75', 'year_76', 'year_77',\n",
       "       'year_78', 'year_79', 'year_80', 'year_81', 'year_82'],\n",
       "      dtype='object')"
      ]
     },
     "execution_count": 430,
     "metadata": {},
     "output_type": "execute_result"
    }
   ],
   "source": [
    "cars_3_index=cars_3.index\n",
    "index_first_five = [i for i in cars_3.index[0:5]]\n",
    "print(index_first_five)\n",
    "# Randomly permute a sequence, or return a permuted range.\n",
    "\n",
    "index_shuffled_3 = np.random.RandomState(seed=42).permutation(cars_3_index)\n",
    "print(index_shuffled_3[0:5])\n",
    "\n",
    "cars_4_shuffled = cars_3.loc[index_shuffled_3]\n",
    "print(cars_4_shuffled.index[0:5])\n",
    "print(cars_4_shuffled.shape)\n",
    "cars_4_shuffled.columns\n",
    "# only new created columns\n",
    "# cars_4_shuffled.iloc[0:3,6:-1]"
   ]
  },
  {
   "cell_type": "markdown",
   "metadata": {},
   "source": [
    "Create a training partition."
   ]
  },
  {
   "cell_type": "code",
   "execution_count": 431,
   "metadata": {},
   "outputs": [
    {
     "name": "stdout",
     "output_type": "stream",
     "text": [
      "Train length:  274\n",
      "(274, 24)\n",
      "Int64Index([78, 274, 246, 55, 387], dtype='int64')\n",
      "Index(['mpg', 'displacement', 'horsepower', 'weight', 'acceleration', 'origin',\n",
      "       'cyl_3', 'cyl_4', 'cyl_5', 'cyl_6', 'cyl_8', 'year_70', 'year_71',\n",
      "       'year_72', 'year_73', 'year_74', 'year_75', 'year_76', 'year_77',\n",
      "       'year_78', 'year_79', 'year_80', 'year_81', 'year_82'],\n",
      "      dtype='object')\n"
     ]
    }
   ],
   "source": [
    "train_length = round(0.7 *cars_4_shuffled.shape[0])\n",
    "print(\"Train length: \", train_length)\n",
    "\n",
    "# round(0.7 *cars_4_shuffled.shape[0])\n",
    "train_1 = cars_4_shuffled[0:train_length]\n",
    "print(train_1.shape)\n",
    "print(train_1.index[0:5])\n",
    "print(train_1.columns)\n"
   ]
  },
  {
   "cell_type": "markdown",
   "metadata": {},
   "source": [
    "Split the training partition into features and label data frames."
   ]
  },
  {
   "cell_type": "code",
   "execution_count": 432,
   "metadata": {},
   "outputs": [
    {
     "name": "stdout",
     "output_type": "stream",
     "text": [
      "Index(['origin'], dtype='object')\n",
      "     origin\n",
      "78        2\n",
      "274       2\n",
      "246       3\n",
      "55        1\n",
      "387       1\n",
      "<class 'pandas.core.frame.DataFrame'>\n",
      "Int64Index: 274 entries, 78 to 325\n",
      "Data columns (total 1 columns):\n",
      "origin    274 non-null int64\n",
      "dtypes: int64(1)\n",
      "memory usage: 4.3 KB\n",
      "None\n",
      "(274, 23)\n",
      "(274, 1)\n"
     ]
    }
   ],
   "source": [
    "# Create training data frame of features\n",
    "X_train_1 = train_1.drop(['origin'], axis=1)\n",
    "# print(X_train_1.columns)\n",
    "# [['origin']] is necessary to return a data frame otherwise a series would be returned and this would not\n",
    "#  work out when applying the algorithm which needs data frames\n",
    "# Create a training data frame of the target \n",
    "Y_train_1 = train_1[['origin']]\n",
    "print(Y_train_1.columns)\n",
    "print(Y_train_1.head())\n",
    "print(Y_train_1.info())\n",
    "print(X_train_1.shape)\n",
    "print(Y_train_1.shape)"
   ]
  },
  {
   "cell_type": "markdown",
   "metadata": {},
   "source": [
    "Create a test partition."
   ]
  },
  {
   "cell_type": "code",
   "execution_count": 433,
   "metadata": {},
   "outputs": [
    {
     "data": {
      "text/plain": [
       "Int64Index([4, 256, 350, 100, 226], dtype='int64')"
      ]
     },
     "execution_count": 433,
     "metadata": {},
     "output_type": "execute_result"
    }
   ],
   "source": [
    "# len(cars_4_shuffled)\n",
    "test_1 = cars_4_shuffled[train_length:]\n",
    "test_1.shape\n",
    "test_1.index[0:5]"
   ]
  },
  {
   "cell_type": "markdown",
   "metadata": {},
   "source": [
    "Split the test partition into features and label data frames."
   ]
  },
  {
   "cell_type": "code",
   "execution_count": 434,
   "metadata": {},
   "outputs": [
    {
     "name": "stdout",
     "output_type": "stream",
     "text": [
      "(118, 1)\n",
      "(118, 23)\n",
      "<class 'pandas.core.frame.DataFrame'>\n",
      "Int64Index: 118 entries, 4 to 102\n",
      "Data columns (total 1 columns):\n",
      "origin    118 non-null int64\n",
      "dtypes: int64(1)\n",
      "memory usage: 1.8 KB\n",
      "None\n"
     ]
    }
   ],
   "source": [
    "# test_1.head()\n",
    "X_test_1 = test_1.drop(['origin'], axis=1)\n",
    "# print(X_test_1.columns)\n",
    "Y_test_1 = test_1[['origin']]\n",
    "print(Y_test_1.shape)\n",
    "print(X_test_1.shape)\n",
    "print(Y_test_1.info())"
   ]
  },
  {
   "cell_type": "markdown",
   "metadata": {},
   "source": [
    "### Logistic regression model with cylinder & year variables as features and origin as label"
   ]
  },
  {
   "cell_type": "code",
   "execution_count": 435,
   "metadata": {},
   "outputs": [
    {
     "name": "stdout",
     "output_type": "stream",
     "text": [
      "[1 2 3]\n"
     ]
    }
   ],
   "source": [
    "\n",
    "unique_origins = cars[\"origin\"].unique()\n",
    "unique_origins.sort()\n",
    "print(unique_origins)\n"
   ]
  },
  {
   "cell_type": "markdown",
   "metadata": {},
   "source": [
    "#### Train 3 logistic regression models using a for loop."
   ]
  },
  {
   "cell_type": "code",
   "execution_count": 436,
   "metadata": {},
   "outputs": [],
   "source": [
    "# Select the training d.iloc[0:3,6:-1]\n",
    "X_train_2 = X_train_1.iloc[:, 6:-1]\n",
    "X_train_2.columns\n",
    "\n",
    "# Select the testing features\n",
    "X_test_2 = X_test_1.iloc[:,6:-1]\n",
    "\n",
    "\n"
   ]
  },
  {
   "cell_type": "code",
   "execution_count": 437,
   "metadata": {},
   "outputs": [
    {
     "name": "stdout",
     "output_type": "stream",
     "text": [
      "78     False\n",
      "274    False\n",
      "246    False\n",
      "55      True\n",
      "387     True\n",
      "Name: origin, dtype: bool\n"
     ]
    }
   ],
   "source": [
    "# Prepare the label column to match unique values with \n",
    "boolean_values = []\n",
    "for value in unique_origins:\n",
    "    Y_train_2=Y_train_1['origin'] == value\n",
    "    boolean_values.append(Y_train_2)\n",
    "print(boolean_values[0][0:5])    "
   ]
  },
  {
   "cell_type": "code",
   "execution_count": 438,
   "metadata": {},
   "outputs": [
    {
     "name": "stdout",
     "output_type": "stream",
     "text": [
      "{1: LogisticRegression(C=1.0, class_weight=None, dual=False, fit_intercept=True,\n",
      "          intercept_scaling=1, max_iter=100, multi_class='ovr', n_jobs=1,\n",
      "          penalty='l2', random_state=None, solver='liblinear', tol=0.0001,\n",
      "          verbose=0, warm_start=False), 2: LogisticRegression(C=1.0, class_weight=None, dual=False, fit_intercept=True,\n",
      "          intercept_scaling=1, max_iter=100, multi_class='ovr', n_jobs=1,\n",
      "          penalty='l2', random_state=None, solver='liblinear', tol=0.0001,\n",
      "          verbose=0, warm_start=False), 3: LogisticRegression(C=1.0, class_weight=None, dual=False, fit_intercept=True,\n",
      "          intercept_scaling=1, max_iter=100, multi_class='ovr', n_jobs=1,\n",
      "          penalty='l2', random_state=None, solver='liblinear', tol=0.0001,\n",
      "          verbose=0, warm_start=False)}\n"
     ]
    }
   ],
   "source": [
    "logreg_models = {}\n",
    "for value in unique_origins:\n",
    "    # Instantiate model classifier\n",
    "    logregmodel = LogisticRegression()\n",
    "    # Train a model for the unique value of the origin variable: either 1,2 or 3\n",
    "    Y_train_2=Y_train_1['origin'] == value\n",
    "    # Fit model classifier to the training data\n",
    "    logregmodel.fit(X_train_2, Y_train_2)\n",
    "    # Put current model into dictionary\n",
    "    logreg_models[value] = logregmodel\n",
    "    \n",
    "print(logreg_models)  "
   ]
  },
  {
   "cell_type": "markdown",
   "metadata": {},
   "source": [
    "####  Predictions of origin with years and cylinders"
   ]
  },
  {
   "cell_type": "code",
   "execution_count": 439,
   "metadata": {},
   "outputs": [
    {
     "name": "stdout",
     "output_type": "stream",
     "text": [
      "Empty DataFrame\n",
      "Columns: [1, 2, 3]\n",
      "Index: []\n",
      "          1         2         3\n",
      "0  0.962892  0.034712  0.021662\n",
      "1  0.785225  0.059077  0.145179\n",
      "2  0.342923  0.186442  0.473190\n",
      "3  0.832646  0.100823  0.066686\n",
      "4  0.856615  0.064505  0.090242\n",
      "(118, 3)\n",
      "354\n"
     ]
    }
   ],
   "source": [
    "# print(X_test_1.iloc[:,6:-1].columns)\n",
    "# Create an empty data frame\n",
    "storing_predicted_probabilities = pd.DataFrame(columns=unique_origins)\n",
    "print(storing_predicted_probabilities)\n",
    "for value in unique_origins:\n",
    "    \n",
    "    storing_predicted_probabilities[value] = logreg_models[value].predict_proba(X_test_2)[:,1]\n",
    "    \n",
    "print(storing_predicted_probabilities.head())\n",
    "print(storing_predicted_probabilities.shape)\n",
    "print(118*3)"
   ]
  },
  {
   "cell_type": "code",
   "execution_count": 440,
   "metadata": {},
   "outputs": [
    {
     "name": "stdout",
     "output_type": "stream",
     "text": [
      "0    1\n",
      "1    1\n",
      "2    3\n",
      "3    1\n",
      "4    1\n",
      "dtype: int64\n",
      "<class 'pandas.core.series.Series'>\n"
     ]
    }
   ],
   "source": [
    "max_value_above_cols = storing_predicted_probabilities.idxmax(axis=1)\n",
    "print(max_value_above_cols[0:5])\n",
    "print(type(max_value_above_cols))"
   ]
  },
  {
   "cell_type": "markdown",
   "metadata": {},
   "source": [
    "The probabilities are stored equivalent to the origin (1,2,3) in the dataframe. For every observation in the\n",
    "testing set probabilities for the 3 origins are available and can be selected as a prediction of the origin.\n",
    "The origin choosen as prediction is the highest or  maximal probability of the 3 probabilities."
   ]
  },
  {
   "cell_type": "code",
   "execution_count": 441,
   "metadata": {},
   "outputs": [],
   "source": [
    "predicted_origins_1 = max_value_above_cols"
   ]
  },
  {
   "cell_type": "markdown",
   "metadata": {},
   "source": [
    "#### Evaluating predictions "
   ]
  },
  {
   "cell_type": "code",
   "execution_count": 442,
   "metadata": {},
   "outputs": [
    {
     "data": {
      "text/plain": [
       "array([[58,  1, 22],\n",
       "       [ 6,  6,  5],\n",
       "       [ 7,  3, 10]])"
      ]
     },
     "execution_count": 442,
     "metadata": {},
     "output_type": "execute_result"
    }
   ],
   "source": [
    "confusion_matrix(Y_test_1, predicted_origins_1,labels=unique_origins)"
   ]
  },
  {
   "cell_type": "code",
   "execution_count": 443,
   "metadata": {},
   "outputs": [
    {
     "data": {
      "text/plain": [
       "0.6271186440677966"
      ]
     },
     "execution_count": 443,
     "metadata": {},
     "output_type": "execute_result"
    }
   ],
   "source": [
    "accuracy_1 = accuracy_score(Y_test_1, predicted_origins_1 )\n",
    "accuracy_1"
   ]
  },
  {
   "cell_type": "markdown",
   "metadata": {},
   "source": [
    "The accuracy as the number of correct predictions (TP+TN) of all observations (TP+TN / (TP+TN+FP+FN)) is ca.63%.\n",
    "6 out of 10 are predicted correctly."
   ]
  },
  {
   "cell_type": "code",
   "execution_count": 444,
   "metadata": {},
   "outputs": [
    {
     "name": "stdout",
     "output_type": "stream",
     "text": [
      "             precision    recall  f1-score   support\n",
      "\n",
      "  Origin: 1       0.82      0.72      0.76        81\n",
      "  Origin: 2       0.60      0.35      0.44        17\n",
      "  Origin: 3       0.27      0.50      0.35        20\n",
      "\n",
      "avg / total       0.69      0.63      0.65       118\n",
      "\n"
     ]
    }
   ],
   "source": [
    "target_names_1 = ['Origin: 1', 'Origin: 2', 'Origin: 3']\n",
    "print(classification_report(Y_test_1, predicted_origins_1, target_names=target_names_1))\n"
   ]
  },
  {
   "cell_type": "markdown",
   "metadata": {},
   "source": [
    "Recall: the ability of the classification model to find all positive conditions correctly (tp / tp + fn) is 72% or 7 out of 10 for origin 1.<br>\n",
    "Precision: the ability of the classification model to predict a negative outcome not as positive (tp/ tp + fp) is 82% or 8 out of 10 for origin 1."
   ]
  },
  {
   "cell_type": "markdown",
   "metadata": {},
   "source": [
    "### Logistic regression model with all variables as features and origin as label"
   ]
  },
  {
   "cell_type": "markdown",
   "metadata": {},
   "source": [
    "#### Train 3 logistic regression models with all features using a for loop."
   ]
  },
  {
   "cell_type": "code",
   "execution_count": 445,
   "metadata": {},
   "outputs": [
    {
     "name": "stdout",
     "output_type": "stream",
     "text": [
      "(274, 23)\n",
      "(118, 23)\n",
      "Index(['mpg', 'displacement', 'horsepower', 'weight', 'acceleration', 'cyl_3',\n",
      "       'cyl_4', 'cyl_5', 'cyl_6', 'cyl_8', 'year_70', 'year_71', 'year_72',\n",
      "       'year_73', 'year_74', 'year_75', 'year_76', 'year_77', 'year_78',\n",
      "       'year_79', 'year_80', 'year_81', 'year_82'],\n",
      "      dtype='object')\n"
     ]
    }
   ],
   "source": [
    "# Select the training d.iloc[0:3,6:-1]\n",
    "X_train_3 = X_train_1\n",
    "print(X_train_3.shape)\n",
    "\n",
    "# Select the testing features\n",
    "X_test_3 = X_test_1\n",
    "print(X_test_3.shape)\n",
    "print(X_test_3.columns)"
   ]
  },
  {
   "cell_type": "code",
   "execution_count": 446,
   "metadata": {},
   "outputs": [
    {
     "name": "stdout",
     "output_type": "stream",
     "text": [
      "{1: LogisticRegression(C=1.0, class_weight=None, dual=False, fit_intercept=True,\n",
      "          intercept_scaling=1, max_iter=100, multi_class='ovr', n_jobs=1,\n",
      "          penalty='l2', random_state=None, solver='liblinear', tol=0.0001,\n",
      "          verbose=0, warm_start=False), 2: LogisticRegression(C=1.0, class_weight=None, dual=False, fit_intercept=True,\n",
      "          intercept_scaling=1, max_iter=100, multi_class='ovr', n_jobs=1,\n",
      "          penalty='l2', random_state=None, solver='liblinear', tol=0.0001,\n",
      "          verbose=0, warm_start=False), 3: LogisticRegression(C=1.0, class_weight=None, dual=False, fit_intercept=True,\n",
      "          intercept_scaling=1, max_iter=100, multi_class='ovr', n_jobs=1,\n",
      "          penalty='l2', random_state=None, solver='liblinear', tol=0.0001,\n",
      "          verbose=0, warm_start=False)}\n"
     ]
    }
   ],
   "source": [
    "logreg_models_3 = {}\n",
    "for value in unique_origins:\n",
    "    # Instantiate model classifier\n",
    "    logregmodel_3 = LogisticRegression()\n",
    "    # Train a model for the unique value of the origin variable: either 1,2 or 3\n",
    "    Y_train_2=Y_train_1['origin'] == value\n",
    "    # Fit model classifier to the training data\n",
    "    logregmodel_3.fit(X_train_3, Y_train_2)\n",
    "    # Put current model into dictionary\n",
    "    logreg_models_3[value] = logregmodel_3\n",
    "    \n",
    "print(logreg_models_3)  "
   ]
  },
  {
   "cell_type": "markdown",
   "metadata": {},
   "source": [
    "####  Predictions of origin with all features"
   ]
  },
  {
   "cell_type": "code",
   "execution_count": 447,
   "metadata": {},
   "outputs": [
    {
     "name": "stdout",
     "output_type": "stream",
     "text": [
      "          1         2         3\n",
      "0  0.999997  0.000076  0.000463\n",
      "1  0.997056  0.007760  0.003336\n",
      "2  0.228149  0.165646  0.487923\n",
      "3  0.985393  0.015685  0.012084\n",
      "4  0.999807  0.003696  0.000371\n",
      "(118, 3)\n"
     ]
    }
   ],
   "source": [
    "storing_predicted_probabilities_3 = pd.DataFrame(columns=unique_origins)\n",
    "\n",
    "for value in unique_origins:\n",
    "    \n",
    "    storing_predicted_probabilities_3[value] = logreg_models_3[value].predict_proba(X_test_3)[:,1]\n",
    "    \n",
    "print(storing_predicted_probabilities_3.head())\n",
    "print(storing_predicted_probabilities_3.shape)\n"
   ]
  },
  {
   "cell_type": "code",
   "execution_count": 448,
   "metadata": {},
   "outputs": [
    {
     "data": {
      "text/plain": [
       "0    1\n",
       "1    1\n",
       "2    3\n",
       "3    1\n",
       "4    1\n",
       "5    1\n",
       "6    1\n",
       "7    2\n",
       "8    1\n",
       "9    3\n",
       "dtype: int64"
      ]
     },
     "execution_count": 448,
     "metadata": {},
     "output_type": "execute_result"
    }
   ],
   "source": [
    "predicting_origins_3 = storing_predicted_probabilities_3.idxmax(axis=1)\n",
    "predicting_origins_3[0:10]"
   ]
  },
  {
   "cell_type": "markdown",
   "metadata": {},
   "source": [
    "#### Evaluating predictions "
   ]
  },
  {
   "cell_type": "code",
   "execution_count": 449,
   "metadata": {},
   "outputs": [
    {
     "data": {
      "text/plain": [
       "array([[69,  2, 10],\n",
       "       [ 3,  5,  9],\n",
       "       [ 1,  6, 13]])"
      ]
     },
     "execution_count": 449,
     "metadata": {},
     "output_type": "execute_result"
    }
   ],
   "source": [
    "confusion_matrix(Y_test_1, predicting_origins_3 ,labels=unique_origins)"
   ]
  },
  {
   "cell_type": "code",
   "execution_count": 450,
   "metadata": {},
   "outputs": [
    {
     "name": "stdout",
     "output_type": "stream",
     "text": [
      "             precision    recall  f1-score   support\n",
      "\n",
      "  Origin: 1       0.95      0.85      0.90        81\n",
      "  Origin: 2       0.38      0.29      0.33        17\n",
      "  Origin: 3       0.41      0.65      0.50        20\n",
      "\n",
      "avg / total       0.77      0.74      0.75       118\n",
      "\n"
     ]
    }
   ],
   "source": [
    "\n",
    "print(classification_report(Y_test_1, predicting_origins_3, target_names=target_names_1))\n"
   ]
  },
  {
   "cell_type": "code",
   "execution_count": 451,
   "metadata": {},
   "outputs": [
    {
     "data": {
      "text/plain": [
       "0.73728813559322037"
      ]
     },
     "execution_count": 451,
     "metadata": {},
     "output_type": "execute_result"
    }
   ],
   "source": [
    "accuracy_2 = accuracy_score(Y_test_1, predicting_origins_3 )\n",
    "accuracy_2"
   ]
  },
  {
   "cell_type": "markdown",
   "metadata": {},
   "source": [
    "The accuracy is improved from 0.627 to 0.737. Further improvements can be achieved with hyperparameter tuning."
   ]
  }
 ],
 "metadata": {
  "kernelspec": {
   "display_name": "Python 3",
   "language": "python",
   "name": "python3"
  },
  "language_info": {
   "codemirror_mode": {
    "name": "ipython",
    "version": 3
   },
   "file_extension": ".py",
   "mimetype": "text/x-python",
   "name": "python",
   "nbconvert_exporter": "python",
   "pygments_lexer": "ipython3",
   "version": "3.6.8"
  }
 },
 "nbformat": 4,
 "nbformat_minor": 2
}
